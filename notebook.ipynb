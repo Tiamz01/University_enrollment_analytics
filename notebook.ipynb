{
 "cells": [
  {
   "cell_type": "markdown",
   "id": "1e20b471-43f1-4e12-afb1-aa7825d8cc69",
   "metadata": {},
   "source": [
    "# University Enrollment\n",
    "\n"
   ]
  },
  {
   "cell_type": "markdown",
   "id": "836353de-534f-460d-b9ce-e92cc3646c65",
   "metadata": {},
   "source": [
    "The dataset contains 1850 rows and 8 columns with missing values before cleaning. I have validated all the columns against the criteria in the dataset table:\n",
    "\n",
    "* course_id: Same as description without missing values.\n",
    "* course_type : Same as description without missing values. 2 course types\n",
    "* Year: Same as description without missing values.\n",
    "* enrollment_count: Same as description without missing values.\n",
    "* pre_score: same as description, but missing value as a '_', which i then replace with 0 and convert it to float.\n",
    "* Post_score:  185 missing values, so I replace the missing values 0 and convert it to integer.\n",
    "* pre_requirement: 89 missing values, so I replace the missing values \"None\".\n",
    "* Department: It contains 5 unique value instead of 4. Since 'Math' is same as 'Mathematics' i replaced 'math' with 'mathematics'\n",
    "\n",
    "After the data validation, the dataset contains 1850 rows and 8 columns."
   ]
  },
  {
   "cell_type": "code",
   "execution_count": 1,
   "id": "adbd7abb-d652-4564-8f4a-a6f1613b6620",
   "metadata": {
    "executionCancelledAt": null,
    "executionTime": 71,
    "lastExecutedAt": 1693199362711,
    "lastScheduledRunId": null,
    "lastSuccessfullyExecutedCode": "import pandas as pd\nimport matplotlib.pyplot as plt\n\n# Reading the dataset \ndf = pd.read_csv(\"university_enrollment_2306.csv\")\n\n# display the dataframe\ndf\n\n",
    "outputsMetadata": {
     "0": {
      "height": 315,
      "type": "dataFrame"
     }
    }
   },
   "outputs": [
    {
     "data": {
      "text/html": [
       "<div>\n",
       "<style scoped>\n",
       "    .dataframe tbody tr th:only-of-type {\n",
       "        vertical-align: middle;\n",
       "    }\n",
       "\n",
       "    .dataframe tbody tr th {\n",
       "        vertical-align: top;\n",
       "    }\n",
       "\n",
       "    .dataframe thead th {\n",
       "        text-align: right;\n",
       "    }\n",
       "</style>\n",
       "<table border=\"1\" class=\"dataframe\">\n",
       "  <thead>\n",
       "    <tr style=\"text-align: right;\">\n",
       "      <th></th>\n",
       "      <th>course_id</th>\n",
       "      <th>course_type</th>\n",
       "      <th>year</th>\n",
       "      <th>enrollment_count</th>\n",
       "      <th>pre_score</th>\n",
       "      <th>post_score</th>\n",
       "      <th>pre_requirement</th>\n",
       "      <th>department</th>\n",
       "    </tr>\n",
       "  </thead>\n",
       "  <tbody>\n",
       "    <tr>\n",
       "      <th>0</th>\n",
       "      <td>1</td>\n",
       "      <td>classroom</td>\n",
       "      <td>2018</td>\n",
       "      <td>165</td>\n",
       "      <td>28.14</td>\n",
       "      <td>73.0</td>\n",
       "      <td>Beginner</td>\n",
       "      <td>Science</td>\n",
       "    </tr>\n",
       "    <tr>\n",
       "      <th>1</th>\n",
       "      <td>2</td>\n",
       "      <td>classroom</td>\n",
       "      <td>2020</td>\n",
       "      <td>175</td>\n",
       "      <td>79.68</td>\n",
       "      <td>86.0</td>\n",
       "      <td>NaN</td>\n",
       "      <td>Science</td>\n",
       "    </tr>\n",
       "    <tr>\n",
       "      <th>2</th>\n",
       "      <td>3</td>\n",
       "      <td>online</td>\n",
       "      <td>2016</td>\n",
       "      <td>257</td>\n",
       "      <td>57.24</td>\n",
       "      <td>80.0</td>\n",
       "      <td>NaN</td>\n",
       "      <td>Mathematics</td>\n",
       "    </tr>\n",
       "    <tr>\n",
       "      <th>3</th>\n",
       "      <td>4</td>\n",
       "      <td>online</td>\n",
       "      <td>2013</td>\n",
       "      <td>251</td>\n",
       "      <td>97.67</td>\n",
       "      <td>75.0</td>\n",
       "      <td>Beginner</td>\n",
       "      <td>Technology</td>\n",
       "    </tr>\n",
       "    <tr>\n",
       "      <th>4</th>\n",
       "      <td>5</td>\n",
       "      <td>classroom</td>\n",
       "      <td>2019</td>\n",
       "      <td>165</td>\n",
       "      <td>39.75</td>\n",
       "      <td>76.0</td>\n",
       "      <td>Beginner</td>\n",
       "      <td>Science</td>\n",
       "    </tr>\n",
       "    <tr>\n",
       "      <th>...</th>\n",
       "      <td>...</td>\n",
       "      <td>...</td>\n",
       "      <td>...</td>\n",
       "      <td>...</td>\n",
       "      <td>...</td>\n",
       "      <td>...</td>\n",
       "      <td>...</td>\n",
       "      <td>...</td>\n",
       "    </tr>\n",
       "    <tr>\n",
       "      <th>1845</th>\n",
       "      <td>1846</td>\n",
       "      <td>classroom</td>\n",
       "      <td>2018</td>\n",
       "      <td>155</td>\n",
       "      <td>60.01</td>\n",
       "      <td>81.0</td>\n",
       "      <td>Intermediate</td>\n",
       "      <td>Science</td>\n",
       "    </tr>\n",
       "    <tr>\n",
       "      <th>1846</th>\n",
       "      <td>1847</td>\n",
       "      <td>online</td>\n",
       "      <td>2016</td>\n",
       "      <td>261</td>\n",
       "      <td>94.27</td>\n",
       "      <td>85.0</td>\n",
       "      <td>NaN</td>\n",
       "      <td>Technology</td>\n",
       "    </tr>\n",
       "    <tr>\n",
       "      <th>1847</th>\n",
       "      <td>1848</td>\n",
       "      <td>online</td>\n",
       "      <td>2011</td>\n",
       "      <td>257</td>\n",
       "      <td>76</td>\n",
       "      <td>81.0</td>\n",
       "      <td>NaN</td>\n",
       "      <td>Mathematics</td>\n",
       "    </tr>\n",
       "    <tr>\n",
       "      <th>1848</th>\n",
       "      <td>1849</td>\n",
       "      <td>online</td>\n",
       "      <td>2013</td>\n",
       "      <td>256</td>\n",
       "      <td>20.67</td>\n",
       "      <td>66.0</td>\n",
       "      <td>NaN</td>\n",
       "      <td>Math</td>\n",
       "    </tr>\n",
       "    <tr>\n",
       "      <th>1849</th>\n",
       "      <td>1850</td>\n",
       "      <td>online</td>\n",
       "      <td>2017</td>\n",
       "      <td>256</td>\n",
       "      <td>17.57</td>\n",
       "      <td>72.0</td>\n",
       "      <td>NaN</td>\n",
       "      <td>Math</td>\n",
       "    </tr>\n",
       "  </tbody>\n",
       "</table>\n",
       "<p>1850 rows × 8 columns</p>\n",
       "</div>"
      ],
      "text/plain": [
       "      course_id course_type  year  enrollment_count pre_score  post_score  \\\n",
       "0             1   classroom  2018               165     28.14        73.0   \n",
       "1             2   classroom  2020               175     79.68        86.0   \n",
       "2             3      online  2016               257     57.24        80.0   \n",
       "3             4      online  2013               251     97.67        75.0   \n",
       "4             5   classroom  2019               165     39.75        76.0   \n",
       "...         ...         ...   ...               ...       ...         ...   \n",
       "1845       1846   classroom  2018               155     60.01        81.0   \n",
       "1846       1847      online  2016               261     94.27        85.0   \n",
       "1847       1848      online  2011               257        76        81.0   \n",
       "1848       1849      online  2013               256     20.67        66.0   \n",
       "1849       1850      online  2017               256     17.57        72.0   \n",
       "\n",
       "     pre_requirement   department  \n",
       "0           Beginner      Science  \n",
       "1                NaN      Science  \n",
       "2                NaN  Mathematics  \n",
       "3           Beginner   Technology  \n",
       "4           Beginner      Science  \n",
       "...              ...          ...  \n",
       "1845    Intermediate      Science  \n",
       "1846             NaN   Technology  \n",
       "1847             NaN  Mathematics  \n",
       "1848             NaN         Math  \n",
       "1849             NaN         Math  \n",
       "\n",
       "[1850 rows x 8 columns]"
      ]
     },
     "execution_count": 1,
     "metadata": {},
     "output_type": "execute_result"
    }
   ],
   "source": [
    "import pandas as pd\n",
    "import matplotlib.pyplot as plt\n",
    "\n",
    "# Reading the dataset \n",
    "df = pd.read_csv(\"university_enrollment_2306.csv\")\n",
    "\n",
    "# display the dataframe\n",
    "df\n",
    "\n"
   ]
  },
  {
   "cell_type": "code",
   "execution_count": 2,
   "id": "33d8f2d7-2eb1-4178-a7f5-675246e0ed40",
   "metadata": {
    "executionCancelledAt": null,
    "executionTime": 50,
    "lastExecutedAt": 1693199362761,
    "lastScheduledRunId": null,
    "lastSuccessfullyExecutedCode": "#data summary\ndf.info()\n\n#confitming the rows and columns in the dataframe\nprint(df.shape)",
    "outputsMetadata": {
     "0": {
      "height": 329,
      "type": "stream"
     }
    }
   },
   "outputs": [
    {
     "name": "stdout",
     "output_type": "stream",
     "text": [
      "<class 'pandas.core.frame.DataFrame'>\n",
      "RangeIndex: 1850 entries, 0 to 1849\n",
      "Data columns (total 8 columns):\n",
      " #   Column            Non-Null Count  Dtype  \n",
      "---  ------            --------------  -----  \n",
      " 0   course_id         1850 non-null   int64  \n",
      " 1   course_type       1850 non-null   object \n",
      " 2   year              1850 non-null   int64  \n",
      " 3   enrollment_count  1850 non-null   int64  \n",
      " 4   pre_score         1850 non-null   object \n",
      " 5   post_score        1665 non-null   float64\n",
      " 6   pre_requirement   959 non-null    object \n",
      " 7   department        1850 non-null   object \n",
      "dtypes: float64(1), int64(3), object(4)\n",
      "memory usage: 115.8+ KB\n",
      "(1850, 8)\n"
     ]
    }
   ],
   "source": [
    "#data summary\n",
    "df.info()\n",
    "\n",
    "#confitming the rows and columns in the dataframe\n",
    "print(df.shape)"
   ]
  },
  {
   "cell_type": "markdown",
   "id": "8405a55e-7e8e-4ee1-b20a-8ae1e655cb16",
   "metadata": {},
   "source": [
    "## Data validation and cleaning"
   ]
  },
  {
   "cell_type": "code",
   "execution_count": 3,
   "id": "35998001-4602-48b0-b4dd-d1a067d0fc89",
   "metadata": {
    "executionCancelledAt": null,
    "executionTime": 52,
    "lastExecutedAt": 1693199362813,
    "lastScheduledRunId": null,
    "lastSuccessfullyExecutedCode": "#Validating the course_id column\n\n\n\n#checking for missing value\n\nprint(df['course_id'].isna().sum())\n\n#checking data type\n\nprint(df['course_id'].dtype)",
    "outputsMetadata": {
     "0": {
      "height": 56,
      "type": "stream"
     }
    }
   },
   "outputs": [
    {
     "name": "stdout",
     "output_type": "stream",
     "text": [
      "0\n",
      "int64\n"
     ]
    }
   ],
   "source": [
    "#Validating the course_id column\n",
    "\n",
    "#checking for missing value\n",
    "\n",
    "print(df['course_id'].isna().sum())\n",
    "\n",
    "#checking data type\n",
    "\n",
    "print(df['course_id'].dtype)"
   ]
  },
  {
   "cell_type": "code",
   "execution_count": 4,
   "id": "fc908bff-c97c-46f4-b5b4-a63cd50fc65d",
   "metadata": {
    "executionCancelledAt": null,
    "executionTime": 52,
    "lastExecutedAt": 1693199362865,
    "lastScheduledRunId": null,
    "lastSuccessfullyExecutedCode": "#Validating the course_type column\nprint(df['course_type'].unique())\n\n#checking for missing value\nprint(df['course_type'].isna().sum())\n\n#checking data type\nprint(df['course_type'].dtype)",
    "outputsMetadata": {
     "0": {
      "height": 76,
      "type": "stream"
     }
    }
   },
   "outputs": [
    {
     "name": "stdout",
     "output_type": "stream",
     "text": [
      "['classroom' 'online']\n",
      "0\n",
      "object\n"
     ]
    }
   ],
   "source": [
    "#Validating the course_type column\n",
    "print(df['course_type'].unique())\n",
    "\n",
    "#checking for missing value\n",
    "print(df['course_type'].isna().sum())\n",
    "\n",
    "#checking data type\n",
    "print(df['course_type'].dtype)"
   ]
  },
  {
   "cell_type": "code",
   "execution_count": 5,
   "id": "fc86c4b9-03b6-4a9c-82ae-02430d840159",
   "metadata": {
    "executionCancelledAt": null,
    "executionTime": 53,
    "lastExecutedAt": 1693199362918,
    "lastScheduledRunId": null,
    "lastSuccessfullyExecutedCode": "#Validating the year column\n\n#checking for missing value\nprint(df['year'].isna().sum())\n\n#checking for unique value\nprint(df['year'].unique())\n\n#checking data type\nprint(df['year'].dtype)\n",
    "outputsMetadata": {
     "0": {
      "height": 76,
      "type": "stream"
     }
    }
   },
   "outputs": [
    {
     "name": "stdout",
     "output_type": "stream",
     "text": [
      "0\n",
      "[2018 2020 2016 2013 2019 2014 2021 2022 2011 2015 2012 2017]\n",
      "int64\n"
     ]
    }
   ],
   "source": [
    "#Validating the year column\n",
    "\n",
    "#checking for missing value\n",
    "print(df['year'].isna().sum())\n",
    "\n",
    "#checking for unique value\n",
    "print(df['year'].unique())\n",
    "\n",
    "#checking data type\n",
    "print(df['year'].dtype)\n"
   ]
  },
  {
   "cell_type": "code",
   "execution_count": 6,
   "id": "6ff4c714-77cb-4623-9579-e9952a54f330",
   "metadata": {
    "executionCancelledAt": null,
    "executionTime": 51,
    "lastExecutedAt": 1693199362969,
    "lastScheduledRunId": null,
    "lastSuccessfullyExecutedCode": "# validating and cleaning the pre score column\n#checking the data type\nprint(df['pre_score'].dtype)\n\n#checking for missing value\nprint(df['pre_score'].isna().sum())\n\n# identify and converting a non numeric input data to NaN\ndf['pre_score'] = pd.to_numeric(df['pre_score'], errors='coerce')\n\n# filling NaN with zero and convert the column data type to float\ndf['pre_score'] = df['pre_score'].fillna(0).astype(float)\n\n#rechecking the data type\nprint(df['pre_score'].dtype)",
    "outputsMetadata": {
     "0": {
      "height": 76,
      "type": "stream"
     }
    }
   },
   "outputs": [
    {
     "name": "stdout",
     "output_type": "stream",
     "text": [
      "object\n",
      "0\n",
      "float64\n"
     ]
    }
   ],
   "source": [
    "# validating and cleaning the pre score column\n",
    "#checking the data type\n",
    "print(df['pre_score'].dtype)\n",
    "\n",
    "#checking for missing value\n",
    "print(df['pre_score'].isna().sum())\n",
    "\n",
    "# identify and converting a non numeric input data to NaN\n",
    "df['pre_score'] = pd.to_numeric(df['pre_score'], errors='coerce')\n",
    "\n",
    "# filling NaN with zero and convert the column data type to float\n",
    "df['pre_score'] = df['pre_score'].fillna(0).astype(float)\n",
    "\n",
    "#rechecking the data type\n",
    "print(df['pre_score'].dtype)"
   ]
  },
  {
   "cell_type": "code",
   "execution_count": 7,
   "id": "ed4d8364-814a-45e1-ae6a-69b7b81011bc",
   "metadata": {
    "executionCancelledAt": null,
    "executionTime": 51,
    "lastExecutedAt": 1693199363021,
    "lastScheduledRunId": null,
    "lastSuccessfullyExecutedCode": "# validating and cleaning the post score column\n\n#checking the data type\nprint(df['post_score'].dtype)\n\n#checking for missing value\nprint(df['post_score'].isna().sum())\n\n# filling NaN with zero and convert the column data type to integer\ndf['post_score'] = df['post_score'].fillna(0).astype(int)\n\n#rechecking the data type\nprint(df['post_score'].dtype)",
    "outputsMetadata": {
     "0": {
      "height": 76,
      "type": "stream"
     }
    }
   },
   "outputs": [
    {
     "name": "stdout",
     "output_type": "stream",
     "text": [
      "float64\n",
      "185\n",
      "int32\n"
     ]
    }
   ],
   "source": [
    "# validating and cleaning the post score column\n",
    "\n",
    "#checking the data type\n",
    "print(df['post_score'].dtype)\n",
    "\n",
    "#checking for missing value\n",
    "print(df['post_score'].isna().sum())\n",
    "\n",
    "# filling NaN with zero and convert the column data type to integer\n",
    "df['post_score'] = df['post_score'].fillna(0).astype(int)\n",
    "\n",
    "#rechecking the data type\n",
    "print(df['post_score'].dtype)"
   ]
  },
  {
   "cell_type": "code",
   "execution_count": 8,
   "id": "ddaecb51-1bbd-46d6-9afe-8eff1e1df43e",
   "metadata": {
    "executionCancelledAt": null,
    "executionTime": 51,
    "lastExecutedAt": 1693199363073,
    "lastScheduledRunId": null,
    "lastSuccessfullyExecutedCode": "#Validating the pre_requirement column\n\n#checking for missing value\nprint(df['pre_requirement'].isna().sum())\n\n#checking for unique value\nprint(df['pre_requirement'].unique())\n\n# filling NaN with None\ndf['pre_requirement'] = df['pre_requirement'].fillna('None')\n\n#revalidating the pre_requirement column\nprint(df['pre_requirement'].unique())\n\n#checking data type\nprint(df['pre_requirement'].dtype)",
    "outputsMetadata": {
     "0": {
      "height": 95,
      "type": "stream"
     }
    }
   },
   "outputs": [
    {
     "name": "stdout",
     "output_type": "stream",
     "text": [
      "891\n",
      "['Beginner' nan 'Intermediate']\n",
      "['Beginner' 'None' 'Intermediate']\n",
      "object\n"
     ]
    }
   ],
   "source": [
    "#Validating the pre_requirement column\n",
    "\n",
    "#checking for missing value\n",
    "print(df['pre_requirement'].isna().sum())\n",
    "\n",
    "#checking for unique value\n",
    "print(df['pre_requirement'].unique())\n",
    "\n",
    "# filling NaN with None\n",
    "df['pre_requirement'] = df['pre_requirement'].fillna('None')\n",
    "\n",
    "#revalidating the pre_requirement column\n",
    "print(df['pre_requirement'].unique())\n",
    "\n",
    "#checking data type\n",
    "print(df['pre_requirement'].dtype)"
   ]
  },
  {
   "cell_type": "code",
   "execution_count": 9,
   "id": "477372e7-4714-4295-aa3f-7176394295bc",
   "metadata": {
    "executionCancelledAt": null,
    "executionTime": 52,
    "lastExecutedAt": 1693199363126,
    "lastScheduledRunId": null,
    "lastSuccessfullyExecutedCode": "#Validating the department column\n\n#checking for missing value\nprint(df['department'].isna().sum())\n\n#checking for unique value\nprint(df['department'].unique())\n\n#checking data type\nprint(df['department'].dtype)\n",
    "outputsMetadata": {
     "0": {
      "height": 76,
      "type": "stream"
     }
    }
   },
   "outputs": [
    {
     "name": "stdout",
     "output_type": "stream",
     "text": [
      "0\n",
      "['Science' 'Mathematics' 'Technology' 'Math' 'Engineering']\n",
      "object\n"
     ]
    }
   ],
   "source": [
    "#Validating the department column\n",
    "\n",
    "#checking for missing value\n",
    "print(df['department'].isna().sum())\n",
    "\n",
    "#checking for unique value\n",
    "print(df['department'].unique())\n",
    "\n",
    "# Replacing Math with Mathematics\n",
    "df['department'] = df['department'].replace('Math', 'Mathematics') \n",
    "\n",
    "#checking data type\n",
    "print(df['department'].dtype)\n"
   ]
  },
  {
   "cell_type": "code",
   "execution_count": 10,
   "id": "0cacedcd-e203-4724-aaf1-1939f9a40baf",
   "metadata": {
    "executionCancelledAt": null,
    "executionTime": 51,
    "lastExecutedAt": 1693199363177,
    "lastScheduledRunId": null,
    "lastSuccessfullyExecutedCode": "# data summary for reconfirming missing values\nprint(df.info())\n\n# statiscal summary\nprint(df.describe())\n\n#reconfirming the shape\nprint(df.shape)",
    "outputsMetadata": {
     "0": {
      "height": 524,
      "type": "stream"
     }
    }
   },
   "outputs": [
    {
     "name": "stdout",
     "output_type": "stream",
     "text": [
      "<class 'pandas.core.frame.DataFrame'>\n",
      "RangeIndex: 1850 entries, 0 to 1849\n",
      "Data columns (total 8 columns):\n",
      " #   Column            Non-Null Count  Dtype  \n",
      "---  ------            --------------  -----  \n",
      " 0   course_id         1850 non-null   int64  \n",
      " 1   course_type       1850 non-null   object \n",
      " 2   year              1850 non-null   int64  \n",
      " 3   enrollment_count  1850 non-null   int64  \n",
      " 4   pre_score         1850 non-null   float64\n",
      " 5   post_score        1850 non-null   int32  \n",
      " 6   pre_requirement   1850 non-null   object \n",
      " 7   department        1850 non-null   object \n",
      "dtypes: float64(1), int32(1), int64(3), object(3)\n",
      "memory usage: 108.5+ KB\n",
      "None\n",
      "         course_id         year  enrollment_count    pre_score   post_score\n",
      "count  1850.000000  1850.000000       1850.000000  1850.000000  1850.000000\n",
      "mean    925.500000  2016.423784        231.565405    46.047022    67.684324\n",
      "std     534.193317     3.448278         36.987029    30.555461    23.968697\n",
      "min       1.000000  2011.000000        154.000000     0.000000     0.000000\n",
      "25%     463.250000  2013.000000        185.000000    18.447500    67.000000\n",
      "50%     925.500000  2016.000000        251.000000    45.450000    74.000000\n",
      "75%    1387.750000  2019.000000        261.000000    72.525000    80.000000\n",
      "max    1850.000000  2022.000000        267.000000   100.000000   105.000000\n",
      "(1850, 8)\n"
     ]
    }
   ],
   "source": [
    "# data summary for reconfirming missing values\n",
    "print(df.info())\n",
    "\n",
    "# statiscal summary\n",
    "print(df.describe())\n",
    "\n",
    "#reconfirming the shape\n",
    "print(df.shape)"
   ]
  },
  {
   "cell_type": "markdown",
   "id": "0944d9ab-ff5a-4dd3-bd52-e27b91d68581",
   "metadata": {},
   "source": [
    "## Task 2\n",
    "The enrollment counts distribution is a symmetrical bimodal distribution, This distribution shape provides insight into the nature of the enrollment data indicating possible  categories of student enrollment. The peak and concentration on the left represents lower enrollment in that division, while the right show a significant amount of student enrolled with approxiamtely 261 as the highest enrolled number of student meaning student enrolled more in this division. "
   ]
  },
  {
   "cell_type": "code",
   "execution_count": 11,
   "id": "9c4e0aef-afaf-4f20-8bbb-c0786e814cee",
   "metadata": {
    "executionCancelledAt": null,
    "executionTime": 195,
    "lastExecutedAt": 1693199363373,
    "lastScheduledRunId": null,
    "lastSuccessfullyExecutedCode": "import seaborn as sns\nsns.histplot(data=df, x='enrollment_count', bins=30, kde=True, color='blue')\nplt.xlabel('enrollment counts')\nplt.ylabel('Frequency')\nplt.title('Distribution of enrollment counts')\nplt.grid(True)\nplt.show()"
   },
   "outputs": [
    {
     "data": {
      "image/png": "[encoded data removed]",
      "text/plain": [
       "<Figure size 640x480 with 1 Axes>"
      ]
     },
     "metadata": {},
     "output_type": "display_data"
    }
   ],
   "source": [
    "import seaborn as sns\n",
    "sns.histplot(data=df, x='enrollment_count', bins=30, kde=True, color='blue')\n",
    "plt.xlabel('enrollment counts')\n",
    "plt.ylabel('Frequency')\n",
    "plt.title('Distribution of enrollment counts')\n",
    "plt.grid(True)\n",
    "plt.show()"
   ]
  },
  {
   "cell_type": "markdown",
   "id": "c509bc83-41a5-42cf-a865-08dcf8229a16",
   "metadata": {},
   "source": [
    "## Task 3\n",
    "\n",
    "Online course type has the highest enrollments with 1375 students enrolled. \n",
    "\n",
    "There's no balance in courses, The online course type category has a significant number of enrollment while the classroom has the least enrolments as shown below.\n",
    "¶\n",
    "* online: 1375\n",
    "* classroom: 475"
   ]
  },
  {
   "cell_type": "code",
   "execution_count": 12,
   "id": "4023b624-0e3b-4b9e-bf86-46701afb52cb",
   "metadata": {
    "executionCancelledAt": null,
    "executionTime": 256,
    "lastExecutedAt": 1693199363629,
    "lastScheduledRunId": null,
    "lastSuccessfullyExecutedCode": "import seaborn as sns\nsns.catplot(x='course_type', y='course_id', data=df, kind='bar',  estimator=lambda x: len(x))\nplt.xlabel('course type')\nplt.ylabel('course count')\nplt.title('Number of courses by course_type')\nplt.xticks(rotation=45)\nplt.show()\n\n# The hit category has most number of attendance of about 667\n\n# The plot show st number of attendance\ncourse_type_count = df['course_type'].value_counts()\ncourse_type_count"
   },
   "outputs": [
    {
     "name": "stderr",
     "output_type": "stream",
     "text": [
      "C:\\ProgramData\\anaconda3\\Lib\\site-packages\\seaborn\\axisgrid.py:118: UserWarning: The figure layout has changed to tight\n",
      "  self._figure.tight_layout(*args, **kwargs)\n"
     ]
    },
    {
     "data": {
      "image/png": "[encoded data removed]",
      "text/plain": [
       "<Figure size 500x500 with 1 Axes>"
      ]
     },
     "metadata": {},
     "output_type": "display_data"
    },
    {
     "data": {
      "text/plain": [
       "course_type\n",
       "online       1375\n",
       "classroom     475\n",
       "Name: count, dtype: int64"
      ]
     },
     "execution_count": 12,
     "metadata": {},
     "output_type": "execute_result"
    }
   ],
   "source": [
    "import seaborn as sns\n",
    "sns.catplot(x='course_type', y='course_id', data=df, kind='bar',  estimator=lambda x: len(x))\n",
    "plt.xlabel('course type')\n",
    "plt.ylabel('course count')\n",
    "plt.title('Number of courses by course_type')\n",
    "plt.xticks(rotation=45)\n",
    "plt.show()\n",
    "\n",
    "# The hit category has most number of attendance of about 667\n",
    "\n",
    "# The plot show st number of attendance\n",
    "course_type_count = df['course_type'].value_counts()\n",
    "course_type_count"
   ]
  },
  {
   "cell_type": "markdown",
   "id": "17cca003-71ad-4d7e-989b-09aa51ae0aba",
   "metadata": {},
   "source": [
    "## Task 4\n",
    "There is an abrupt change in course enrollment by student. this implies a non linear relationship though there's no clear relationship as online course type has highest enrolment rate which means most student prefer to study online than in classroom."
   ]
  },
  {
   "cell_type": "code",
   "execution_count": 13,
   "id": "7379ca9e-039b-464b-b07d-2bfb20649e65",
   "metadata": {
    "executionCancelledAt": null,
    "executionTime": 176,
    "lastExecutedAt": 1693199363805,
    "lastScheduledRunId": null,
    "lastSuccessfullyExecutedCode": "sns.boxplot( x= df['course_type'], y=df['enrollment_count'],)\nplt.xlabel('course_type')\nplt.ylabel('enrollment_count')\nplt.title('Graph 4.0. Relationship between course type and enrollment_count')\nplt.show()"
   },
   "outputs": [
    {
     "data": {
      "image/png": "[encoded data removed]",
      "text/plain": [
       "<Figure size 640x480 with 1 Axes>"
      ]
     },
     "metadata": {},
     "output_type": "display_data"
    }
   ],
   "source": [
    "sns.boxplot( x= df['course_type'], y=df['enrollment_count'],)\n",
    "plt.xlabel('course_type')\n",
    "plt.ylabel('enrollment_count')\n",
    "plt.title('Graph 4.0. Relationship between course type and enrollment_count')\n",
    "plt.show()"
   ]
  },
  {
   "cell_type": "markdown",
   "id": "15af4785-c74a-4f21-bd77-0ef96e9904e2",
   "metadata": {},
   "source": [
    "## To enable the model fit, i Converted all the categorical variables into numeric variables by encoding their value."
   ]
  },
  {
   "cell_type": "code",
   "execution_count": 14,
   "id": "f1acf387-bc08-40d5-897a-245a1ae7cd96",
   "metadata": {
    "executionCancelledAt": null,
    "executionTime": 106,
    "lastExecutedAt": 1693199363912,
    "lastScheduledRunId": null,
    "lastSuccessfullyExecutedCode": "from sklearn.preprocessing import OneHotEncoder\n\n# Create an instance of OneHotEncoder to convert categorical variable into numerical variable\nencoder = OneHotEncoder(sparse=False)\n\n# Reshape the input columns to a 2D array\ncolumns_to_encode = ['course_type', 'pre_requirement', 'department']\ncolumn_values = df[columns_to_encode].values\n\n# Encode the categorical columns\nencoded_features = encoder.fit_transform(column_values)\n\n# Create a DataFrame with the encoded features\nencoded_df = pd.DataFrame(encoded_features, columns=encoder.get_feature_names_out(columns_to_encode))\n\n# Concatenate the encoded features DataFrame with the original DataFrame\ndf_encoded = pd.concat([df.drop(columns_to_encode, axis=1), encoded_df], axis=1)\n\n# Now you have the DataFrame with encoded features added\ndf_encoded",
    "outputsMetadata": {
     "0": {
      "height": 332,
      "type": "dataFrame"
     }
    }
   },
   "outputs": [
    {
     "name": "stderr",
     "output_type": "stream",
     "text": [
      "C:\\ProgramData\\anaconda3\\Lib\\site-packages\\sklearn\\preprocessing\\_encoders.py:972: FutureWarning: `sparse` was renamed to `sparse_output` in version 1.2 and will be removed in 1.4. `sparse_output` is ignored unless you leave `sparse` to its default value.\n",
      "  warnings.warn(\n"
     ]
    },
    {
     "data": {
      "text/html": [
       "<div>\n",
       "<style scoped>\n",
       "    .dataframe tbody tr th:only-of-type {\n",
       "        vertical-align: middle;\n",
       "    }\n",
       "\n",
       "    .dataframe tbody tr th {\n",
       "        vertical-align: top;\n",
       "    }\n",
       "\n",
       "    .dataframe thead th {\n",
       "        text-align: right;\n",
       "    }\n",
       "</style>\n",
       "<table border=\"1\" class=\"dataframe\">\n",
       "  <thead>\n",
       "    <tr style=\"text-align: right;\">\n",
       "      <th></th>\n",
       "      <th>course_id</th>\n",
       "      <th>year</th>\n",
       "      <th>enrollment_count</th>\n",
       "      <th>pre_score</th>\n",
       "      <th>post_score</th>\n",
       "      <th>course_type_classroom</th>\n",
       "      <th>course_type_online</th>\n",
       "      <th>pre_requirement_Beginner</th>\n",
       "      <th>pre_requirement_Intermediate</th>\n",
       "      <th>pre_requirement_None</th>\n",
       "      <th>department_Engineering</th>\n",
       "      <th>department_Mathematics</th>\n",
       "      <th>department_Science</th>\n",
       "      <th>department_Technology</th>\n",
       "    </tr>\n",
       "  </thead>\n",
       "  <tbody>\n",
       "    <tr>\n",
       "      <th>0</th>\n",
       "      <td>1</td>\n",
       "      <td>2018</td>\n",
       "      <td>165</td>\n",
       "      <td>28.14</td>\n",
       "      <td>73</td>\n",
       "      <td>1.0</td>\n",
       "      <td>0.0</td>\n",
       "      <td>1.0</td>\n",
       "      <td>0.0</td>\n",
       "      <td>0.0</td>\n",
       "      <td>0.0</td>\n",
       "      <td>0.0</td>\n",
       "      <td>1.0</td>\n",
       "      <td>0.0</td>\n",
       "    </tr>\n",
       "    <tr>\n",
       "      <th>1</th>\n",
       "      <td>2</td>\n",
       "      <td>2020</td>\n",
       "      <td>175</td>\n",
       "      <td>79.68</td>\n",
       "      <td>86</td>\n",
       "      <td>1.0</td>\n",
       "      <td>0.0</td>\n",
       "      <td>0.0</td>\n",
       "      <td>0.0</td>\n",
       "      <td>1.0</td>\n",
       "      <td>0.0</td>\n",
       "      <td>0.0</td>\n",
       "      <td>1.0</td>\n",
       "      <td>0.0</td>\n",
       "    </tr>\n",
       "    <tr>\n",
       "      <th>2</th>\n",
       "      <td>3</td>\n",
       "      <td>2016</td>\n",
       "      <td>257</td>\n",
       "      <td>57.24</td>\n",
       "      <td>80</td>\n",
       "      <td>0.0</td>\n",
       "      <td>1.0</td>\n",
       "      <td>0.0</td>\n",
       "      <td>0.0</td>\n",
       "      <td>1.0</td>\n",
       "      <td>0.0</td>\n",
       "      <td>1.0</td>\n",
       "      <td>0.0</td>\n",
       "      <td>0.0</td>\n",
       "    </tr>\n",
       "    <tr>\n",
       "      <th>3</th>\n",
       "      <td>4</td>\n",
       "      <td>2013</td>\n",
       "      <td>251</td>\n",
       "      <td>97.67</td>\n",
       "      <td>75</td>\n",
       "      <td>0.0</td>\n",
       "      <td>1.0</td>\n",
       "      <td>1.0</td>\n",
       "      <td>0.0</td>\n",
       "      <td>0.0</td>\n",
       "      <td>0.0</td>\n",
       "      <td>0.0</td>\n",
       "      <td>0.0</td>\n",
       "      <td>1.0</td>\n",
       "    </tr>\n",
       "    <tr>\n",
       "      <th>4</th>\n",
       "      <td>5</td>\n",
       "      <td>2019</td>\n",
       "      <td>165</td>\n",
       "      <td>39.75</td>\n",
       "      <td>76</td>\n",
       "      <td>1.0</td>\n",
       "      <td>0.0</td>\n",
       "      <td>1.0</td>\n",
       "      <td>0.0</td>\n",
       "      <td>0.0</td>\n",
       "      <td>0.0</td>\n",
       "      <td>0.0</td>\n",
       "      <td>1.0</td>\n",
       "      <td>0.0</td>\n",
       "    </tr>\n",
       "    <tr>\n",
       "      <th>...</th>\n",
       "      <td>...</td>\n",
       "      <td>...</td>\n",
       "      <td>...</td>\n",
       "      <td>...</td>\n",
       "      <td>...</td>\n",
       "      <td>...</td>\n",
       "      <td>...</td>\n",
       "      <td>...</td>\n",
       "      <td>...</td>\n",
       "      <td>...</td>\n",
       "      <td>...</td>\n",
       "      <td>...</td>\n",
       "      <td>...</td>\n",
       "      <td>...</td>\n",
       "    </tr>\n",
       "    <tr>\n",
       "      <th>1845</th>\n",
       "      <td>1846</td>\n",
       "      <td>2018</td>\n",
       "      <td>155</td>\n",
       "      <td>60.01</td>\n",
       "      <td>81</td>\n",
       "      <td>1.0</td>\n",
       "      <td>0.0</td>\n",
       "      <td>0.0</td>\n",
       "      <td>1.0</td>\n",
       "      <td>0.0</td>\n",
       "      <td>0.0</td>\n",
       "      <td>0.0</td>\n",
       "      <td>1.0</td>\n",
       "      <td>0.0</td>\n",
       "    </tr>\n",
       "    <tr>\n",
       "      <th>1846</th>\n",
       "      <td>1847</td>\n",
       "      <td>2016</td>\n",
       "      <td>261</td>\n",
       "      <td>94.27</td>\n",
       "      <td>85</td>\n",
       "      <td>0.0</td>\n",
       "      <td>1.0</td>\n",
       "      <td>0.0</td>\n",
       "      <td>0.0</td>\n",
       "      <td>1.0</td>\n",
       "      <td>0.0</td>\n",
       "      <td>0.0</td>\n",
       "      <td>0.0</td>\n",
       "      <td>1.0</td>\n",
       "    </tr>\n",
       "    <tr>\n",
       "      <th>1847</th>\n",
       "      <td>1848</td>\n",
       "      <td>2011</td>\n",
       "      <td>257</td>\n",
       "      <td>76.00</td>\n",
       "      <td>81</td>\n",
       "      <td>0.0</td>\n",
       "      <td>1.0</td>\n",
       "      <td>0.0</td>\n",
       "      <td>0.0</td>\n",
       "      <td>1.0</td>\n",
       "      <td>0.0</td>\n",
       "      <td>1.0</td>\n",
       "      <td>0.0</td>\n",
       "      <td>0.0</td>\n",
       "    </tr>\n",
       "    <tr>\n",
       "      <th>1848</th>\n",
       "      <td>1849</td>\n",
       "      <td>2013</td>\n",
       "      <td>256</td>\n",
       "      <td>20.67</td>\n",
       "      <td>66</td>\n",
       "      <td>0.0</td>\n",
       "      <td>1.0</td>\n",
       "      <td>0.0</td>\n",
       "      <td>0.0</td>\n",
       "      <td>1.0</td>\n",
       "      <td>0.0</td>\n",
       "      <td>1.0</td>\n",
       "      <td>0.0</td>\n",
       "      <td>0.0</td>\n",
       "    </tr>\n",
       "    <tr>\n",
       "      <th>1849</th>\n",
       "      <td>1850</td>\n",
       "      <td>2017</td>\n",
       "      <td>256</td>\n",
       "      <td>17.57</td>\n",
       "      <td>72</td>\n",
       "      <td>0.0</td>\n",
       "      <td>1.0</td>\n",
       "      <td>0.0</td>\n",
       "      <td>0.0</td>\n",
       "      <td>1.0</td>\n",
       "      <td>0.0</td>\n",
       "      <td>1.0</td>\n",
       "      <td>0.0</td>\n",
       "      <td>0.0</td>\n",
       "    </tr>\n",
       "  </tbody>\n",
       "</table>\n",
       "<p>1850 rows × 14 columns</p>\n",
       "</div>"
      ],
      "text/plain": [
       "      course_id  year  enrollment_count  pre_score  post_score  \\\n",
       "0             1  2018               165      28.14          73   \n",
       "1             2  2020               175      79.68          86   \n",
       "2             3  2016               257      57.24          80   \n",
       "3             4  2013               251      97.67          75   \n",
       "4             5  2019               165      39.75          76   \n",
       "...         ...   ...               ...        ...         ...   \n",
       "1845       1846  2018               155      60.01          81   \n",
       "1846       1847  2016               261      94.27          85   \n",
       "1847       1848  2011               257      76.00          81   \n",
       "1848       1849  2013               256      20.67          66   \n",
       "1849       1850  2017               256      17.57          72   \n",
       "\n",
       "      course_type_classroom  course_type_online  pre_requirement_Beginner  \\\n",
       "0                       1.0                 0.0                       1.0   \n",
       "1                       1.0                 0.0                       0.0   \n",
       "2                       0.0                 1.0                       0.0   \n",
       "3                       0.0                 1.0                       1.0   \n",
       "4                       1.0                 0.0                       1.0   \n",
       "...                     ...                 ...                       ...   \n",
       "1845                    1.0                 0.0                       0.0   \n",
       "1846                    0.0                 1.0                       0.0   \n",
       "1847                    0.0                 1.0                       0.0   \n",
       "1848                    0.0                 1.0                       0.0   \n",
       "1849                    0.0                 1.0                       0.0   \n",
       "\n",
       "      pre_requirement_Intermediate  pre_requirement_None  \\\n",
       "0                              0.0                   0.0   \n",
       "1                              0.0                   1.0   \n",
       "2                              0.0                   1.0   \n",
       "3                              0.0                   0.0   \n",
       "4                              0.0                   0.0   \n",
       "...                            ...                   ...   \n",
       "1845                           1.0                   0.0   \n",
       "1846                           0.0                   1.0   \n",
       "1847                           0.0                   1.0   \n",
       "1848                           0.0                   1.0   \n",
       "1849                           0.0                   1.0   \n",
       "\n",
       "      department_Engineering  department_Mathematics  department_Science  \\\n",
       "0                        0.0                     0.0                 1.0   \n",
       "1                        0.0                     0.0                 1.0   \n",
       "2                        0.0                     1.0                 0.0   \n",
       "3                        0.0                     0.0                 0.0   \n",
       "4                        0.0                     0.0                 1.0   \n",
       "...                      ...                     ...                 ...   \n",
       "1845                     0.0                     0.0                 1.0   \n",
       "1846                     0.0                     0.0                 0.0   \n",
       "1847                     0.0                     1.0                 0.0   \n",
       "1848                     0.0                     1.0                 0.0   \n",
       "1849                     0.0                     1.0                 0.0   \n",
       "\n",
       "      department_Technology  \n",
       "0                       0.0  \n",
       "1                       0.0  \n",
       "2                       0.0  \n",
       "3                       1.0  \n",
       "4                       0.0  \n",
       "...                     ...  \n",
       "1845                    0.0  \n",
       "1846                    1.0  \n",
       "1847                    0.0  \n",
       "1848                    0.0  \n",
       "1849                    0.0  \n",
       "\n",
       "[1850 rows x 14 columns]"
      ]
     },
     "execution_count": 14,
     "metadata": {},
     "output_type": "execute_result"
    }
   ],
   "source": [
    "from sklearn.preprocessing import OneHotEncoder\n",
    "\n",
    "# Create an instance of OneHotEncoder to convert categorical variable into numerical variable\n",
    "encoder = OneHotEncoder(sparse=False)\n",
    "\n",
    "# Reshape the input columns to a 2D array\n",
    "columns_to_encode = ['course_type', 'pre_requirement', 'department']\n",
    "column_values = df[columns_to_encode].values\n",
    "\n",
    "# Encode the categorical columns\n",
    "encoded_features = encoder.fit_transform(column_values)\n",
    "\n",
    "# Create a DataFrame with the encoded features\n",
    "encoded_df = pd.DataFrame(encoded_features, columns=encoder.get_feature_names_out(columns_to_encode))\n",
    "\n",
    "# Concatenate the encoded features DataFrame with the original DataFrame\n",
    "df_encoded = pd.concat([df.drop(columns_to_encode, axis=1), encoded_df], axis=1)\n",
    "\n",
    "# Now you have the DataFrame with encoded features added\n",
    "df_encoded"
   ]
  },
  {
   "cell_type": "markdown",
   "id": "66e07a44-f276-4516-87ce-e460d3f1a33a",
   "metadata": {},
   "source": [
    "## Task 5\n",
    "This is a regression problem because we are predicting how many student will enroll in a course"
   ]
  },
  {
   "cell_type": "markdown",
   "id": "8b20fa2e-da87-4cf4-9591-157a0837891e",
   "metadata": {},
   "source": [
    "## Task 6\n",
    "Fiting the baseline model - Linear Regression"
   ]
  },
  {
   "cell_type": "code",
   "execution_count": 15,
   "id": "76b4446c-9c17-4aa7-8119-8d33c51a6593",
   "metadata": {
    "executionCancelledAt": null,
    "executionTime": 54,
    "lastExecutedAt": 1693199363966,
    "lastScheduledRunId": null,
    "lastSuccessfullyExecutedCode": "from sklearn.model_selection import train_test_split\nfrom sklearn.linear_model import LinearRegression\n\nfeatures = df_encoded.drop('enrollment_count', axis=1)\ntarget = df_encoded['enrollment_count']\n\n#splitting dataset into 80-20 train and test set\nX_train, X_test, y_train, y_test = train_test_split(features, target, test_size=0.2, random_state=42)\n\n\n#instantiate our model\nlinReg = LinearRegression()\n\n#fitting the model\nlinReg.fit(X_train, y_train)\n\n#predicting enrollment count\ny_pred_baseline = linReg.predict(X_test)\ny_pred_baseline\nprint(y_pred_baseline.mean())",
    "outputsMetadata": {
     "0": {
      "height": 37,
      "type": "stream"
     }
    }
   },
   "outputs": [
    {
     "name": "stdout",
     "output_type": "stream",
     "text": [
      "232.66900457723273\n"
     ]
    }
   ],
   "source": [
    "from sklearn.model_selection import train_test_split\n",
    "from sklearn.linear_model import LinearRegression\n",
    "\n",
    "features = df_encoded.drop('enrollment_count', axis=1)\n",
    "target = df_encoded['enrollment_count']\n",
    "\n",
    "#splitting dataset into 80-20 train and test set\n",
    "X_train, X_test, y_train, y_test = train_test_split(features, target, test_size=0.2, random_state=42)\n",
    "\n",
    "\n",
    "#instantiate our model\n",
    "linReg = LinearRegression()\n",
    "\n",
    "#fitting the model\n",
    "linReg.fit(X_train, y_train)\n",
    "\n",
    "#predicting enrollment count\n",
    "y_pred_baseline = linReg.predict(X_test)\n",
    "y_pred_baseline\n",
    "print(y_pred_baseline.mean())"
   ]
  },
  {
   "cell_type": "markdown",
   "id": "b7f0dcc4-98c7-43fe-8ee2-629aac60c421",
   "metadata": {},
   "source": [
    "## Task 7\n",
    "Fitting the comparison model - Randomforest regression"
   ]
  },
  {
   "cell_type": "code",
   "execution_count": 16,
   "id": "3d5953c8-9f51-426c-a597-b41bd742e4d1",
   "metadata": {
    "executionCancelledAt": null,
    "executionTime": 317,
    "lastExecutedAt": 1693199364283,
    "lastScheduledRunId": null,
    "lastSuccessfullyExecutedCode": "from sklearn.ensemble import RandomForestRegressor\n\n#instantiate the regressor\ncomparison_model = RandomForestRegressor(n_estimators=100, random_state=42)\n\n#fitting the model\ncomparison_model.fit(X_train, y_train)\n\n#predicting enrollment count\ny_pred_compared = comparison_model.predict(X_test)\n\ny_pred_compared\n\nprint(y_pred_compared.mean())",
    "outputsMetadata": {
     "0": {
      "height": 37,
      "type": "stream"
     }
    }
   },
   "outputs": [
    {
     "name": "stdout",
     "output_type": "stream",
     "text": [
      "232.676\n"
     ]
    }
   ],
   "source": [
    "from sklearn.ensemble import RandomForestRegressor\n",
    "\n",
    "#instantiate the regressor\n",
    "comparison_model = RandomForestRegressor(n_estimators=100, random_state=42)\n",
    "\n",
    "#fitting the model\n",
    "comparison_model.fit(X_train, y_train)\n",
    "\n",
    "#predicting enrollment count\n",
    "y_pred_compared = comparison_model.predict(X_test)\n",
    "\n",
    "y_pred_compared\n",
    "\n",
    "print(y_pred_compared.mean())"
   ]
  },
  {
   "cell_type": "markdown",
   "id": "5cec4b2d-86fd-4ce3-9f9c-e9ab2ec0e436",
   "metadata": {},
   "source": [
    "## Task 8\n",
    "I chose a linear model due to its simplicity and interpretability. Linear models make assumptions that the relationships between features and target are linear, which enables straightforward training of model and inferences. As a comparison, I also trained a random forest classifier, which can capture more complex nonlinear relationships through its ensemble of decision trees. Random forests build multiple trees on subsets of data and average their results, allowing flexibility to model interactions and non-linear patterns."
   ]
  },
  {
   "cell_type": "markdown",
   "id": "84fc2a09-ea39-4a6f-85b2-5d17957e1ac5",
   "metadata": {},
   "source": [
    "## Task 9\n",
    "I compare my model using root mean square error (RMSE)"
   ]
  },
  {
   "cell_type": "code",
   "execution_count": 17,
   "id": "246f2368-09ae-4cac-bdb5-7daacb0b2faf",
   "metadata": {
    "executionCancelledAt": null,
    "executionTime": 46,
    "lastExecutedAt": 1693199364329,
    "lastScheduledRunId": null,
    "lastSuccessfullyExecutedCode": "from sklearn.metrics import accuracy_score, mean_squared_error, r2_score\nimport numpy as np\n\n# Calculate and print the mean squared error for the baseline model\nbaseline_mse = mean_squared_error(y_test, y_pred_baseline)\nprint(\"MSE of baseline model:\", baseline_mse)\n\n# Calculate and print the mean squared error for the compared model\ncompared_mse = mean_squared_error(y_test, y_pred_compared)\nprint(\"MSE of comparison model:\", compared_mse)\n\n# Calculate and print the root mean squared error for the baseline model\nbaseline_mse = np.sqrt(mean_squared_error(y_test, y_pred_baseline))\nprint(\"RMSE of baseline model:\", baseline_mse)\n\n# Calculate and print the root mean squared error for the compared model\nbaseline_mse = np.sqrt(mean_squared_error(y_test, y_pred_compared))\nprint(\"RMSE of compared model:\", compared_mse)",
    "outputsMetadata": {
     "0": {
      "height": 95,
      "type": "stream"
     }
    }
   },
   "outputs": [
    {
     "name": "stdout",
     "output_type": "stream",
     "text": [
      "MSE of baseline model: 0.09915770269518773\n",
      "MSE of comparison model: 0.1174740540540541\n",
      "RMSE of baseline model: 0.31489316076280177\n",
      "RMSE of compared model: 0.1174740540540541\n"
     ]
    }
   ],
   "source": [
    "from sklearn.metrics import accuracy_score, mean_squared_error, r2_score\n",
    "import numpy as np\n",
    "\n",
    "# Calculate and print the mean squared error for the baseline model\n",
    "baseline_mse = mean_squared_error(y_test, y_pred_baseline)\n",
    "print(\"MSE of baseline model:\", baseline_mse)\n",
    "\n",
    "# Calculate and print the mean squared error for the compared model\n",
    "compared_mse = mean_squared_error(y_test, y_pred_compared)\n",
    "print(\"MSE of comparison model:\", compared_mse)\n",
    "\n",
    "# Calculate and print the root mean squared error for the baseline model\n",
    "baseline_mse = np.sqrt(mean_squared_error(y_test, y_pred_baseline))\n",
    "print(\"RMSE of baseline model:\", baseline_mse)\n",
    "\n",
    "# Calculate and print the root mean squared error for the compared model\n",
    "baseline_mse = np.sqrt(mean_squared_error(y_test, y_pred_compared))\n",
    "print(\"RMSE of compared model:\", compared_mse)"
   ]
  },
  {
   "cell_type": "markdown",
   "id": "feb9e1eb-8913-43b8-a280-a369cf10631e",
   "metadata": {},
   "source": [
    "## Task 10\n",
    "The comparison model perform better based on RMSE lower value which indicate small residual error and a better fit of the model as it measures the magnitutude of error between actual and predicted value"
   ]
  },
  {
   "cell_type": "markdown",
   "id": "b56d15dd-4a40-4c94-b330-bb13a4b9673d",
   "metadata": {},
   "source": [
    "## Prediction: Base on the model prediction approximately 232 students will enroll."
   ]
  }
 ],
 "metadata": {
  "colab": {
   "name": "Welcome to DataCamp Workspaces.ipynb",
   "provenance": []
  },
  "kernelspec": {
   "display_name": "Python_3",
   "language": "python",
   "name": "python_3"
  },
  "language_info": {
   "codemirror_mode": {
    "name": "ipython",
    "version": 3
   },
   "file_extension": ".py",
   "mimetype": "text/x-python",
   "name": "python",
   "nbconvert_exporter": "python",
   "pygments_lexer": "ipython3",
   "version": "3.11.5"
  }
 },
 "nbformat": 4,
 "nbformat_minor": 5
}
